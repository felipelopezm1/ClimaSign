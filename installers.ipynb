{
 "cells": [
  {
   "cell_type": "code",
   "execution_count": 1,
   "metadata": {},
   "outputs": [
    {
     "name": "stdout",
     "output_type": "stream",
     "text": [
      "Requirement already satisfied: torch in c:\\users\\felip\\anaconda3\\envs\\aim\\lib\\site-packages (2.6.0)\n",
      "Requirement already satisfied: numpy in c:\\users\\felip\\anaconda3\\envs\\aim\\lib\\site-packages (1.26.2)\n",
      "Requirement already satisfied: scikit-learn in c:\\users\\felip\\anaconda3\\envs\\aim\\lib\\site-packages (1.3.2)\n",
      "Requirement already satisfied: mediapipe in c:\\users\\felip\\anaconda3\\envs\\aim\\lib\\site-packages (0.10.21)\n",
      "Requirement already satisfied: opencv-python in c:\\users\\felip\\anaconda3\\envs\\aim\\lib\\site-packages (4.11.0.86)\n",
      "Requirement already satisfied: Pillow in c:\\users\\felip\\anaconda3\\envs\\aim\\lib\\site-packages (10.4.0)\n",
      "Requirement already satisfied: requests in c:\\users\\felip\\anaconda3\\envs\\aim\\lib\\site-packages (2.31.0)\n",
      "Requirement already satisfied: geopy in c:\\users\\felip\\anaconda3\\envs\\aim\\lib\\site-packages (2.4.1)\n",
      "Requirement already satisfied: filelock in c:\\users\\felip\\anaconda3\\envs\\aim\\lib\\site-packages (from torch) (3.17.0)\n",
      "Requirement already satisfied: typing-extensions>=4.10.0 in c:\\users\\felip\\anaconda3\\envs\\aim\\lib\\site-packages (from torch) (4.12.2)\n",
      "Requirement already satisfied: networkx in c:\\users\\felip\\anaconda3\\envs\\aim\\lib\\site-packages (from torch) (3.4.2)\n",
      "Requirement already satisfied: jinja2 in c:\\users\\felip\\anaconda3\\envs\\aim\\lib\\site-packages (from torch) (3.1.5)\n",
      "Requirement already satisfied: fsspec in c:\\users\\felip\\anaconda3\\envs\\aim\\lib\\site-packages (from torch) (2025.2.0)\n",
      "Requirement already satisfied: sympy==1.13.1 in c:\\users\\felip\\anaconda3\\envs\\aim\\lib\\site-packages (from torch) (1.13.1)\n",
      "Requirement already satisfied: mpmath<1.4,>=1.1.0 in c:\\users\\felip\\anaconda3\\envs\\aim\\lib\\site-packages (from sympy==1.13.1->torch) (1.3.0)\n",
      "Requirement already satisfied: scipy>=1.5.0 in c:\\users\\felip\\anaconda3\\envs\\aim\\lib\\site-packages (from scikit-learn) (1.11.4)\n",
      "Requirement already satisfied: joblib>=1.1.1 in c:\\users\\felip\\anaconda3\\envs\\aim\\lib\\site-packages (from scikit-learn) (1.3.2)\n",
      "Requirement already satisfied: threadpoolctl>=2.0.0 in c:\\users\\felip\\anaconda3\\envs\\aim\\lib\\site-packages (from scikit-learn) (3.2.0)\n",
      "Requirement already satisfied: absl-py in c:\\users\\felip\\anaconda3\\envs\\aim\\lib\\site-packages (from mediapipe) (2.1.0)\n",
      "Requirement already satisfied: attrs>=19.1.0 in c:\\users\\felip\\anaconda3\\envs\\aim\\lib\\site-packages (from mediapipe) (24.3.0)\n",
      "Requirement already satisfied: flatbuffers>=2.0 in c:\\users\\felip\\anaconda3\\envs\\aim\\lib\\site-packages (from mediapipe) (25.2.10)\n",
      "Requirement already satisfied: jax in c:\\users\\felip\\anaconda3\\envs\\aim\\lib\\site-packages (from mediapipe) (0.5.2)\n",
      "Requirement already satisfied: jaxlib in c:\\users\\felip\\anaconda3\\envs\\aim\\lib\\site-packages (from mediapipe) (0.5.1)\n",
      "Requirement already satisfied: matplotlib in c:\\users\\felip\\anaconda3\\envs\\aim\\lib\\site-packages (from mediapipe) (3.10.0)\n",
      "Requirement already satisfied: opencv-contrib-python in c:\\users\\felip\\anaconda3\\envs\\aim\\lib\\site-packages (from mediapipe) (4.11.0.86)\n",
      "Requirement already satisfied: protobuf<5,>=4.25.3 in c:\\users\\felip\\anaconda3\\envs\\aim\\lib\\site-packages (from mediapipe) (4.25.6)\n",
      "Requirement already satisfied: sounddevice>=0.4.4 in c:\\users\\felip\\anaconda3\\envs\\aim\\lib\\site-packages (from mediapipe) (0.4.6)\n",
      "Requirement already satisfied: sentencepiece in c:\\users\\felip\\anaconda3\\envs\\aim\\lib\\site-packages (from mediapipe) (0.2.0)\n",
      "Requirement already satisfied: charset-normalizer<4,>=2 in c:\\users\\felip\\anaconda3\\envs\\aim\\lib\\site-packages (from requests) (3.3.2)\n",
      "Requirement already satisfied: idna<4,>=2.5 in c:\\users\\felip\\anaconda3\\envs\\aim\\lib\\site-packages (from requests) (3.6)\n",
      "Requirement already satisfied: urllib3<3,>=1.21.1 in c:\\users\\felip\\anaconda3\\envs\\aim\\lib\\site-packages (from requests) (2.1.0)\n",
      "Requirement already satisfied: certifi>=2017.4.17 in c:\\users\\felip\\anaconda3\\envs\\aim\\lib\\site-packages (from requests) (2023.11.17)\n",
      "Requirement already satisfied: geographiclib<3,>=1.52 in c:\\users\\felip\\anaconda3\\envs\\aim\\lib\\site-packages (from geopy) (2.0)\n",
      "Requirement already satisfied: CFFI>=1.0 in c:\\users\\felip\\anaconda3\\envs\\aim\\lib\\site-packages (from sounddevice>=0.4.4->mediapipe) (1.16.0)\n",
      "Requirement already satisfied: ml_dtypes>=0.4.0 in c:\\users\\felip\\anaconda3\\envs\\aim\\lib\\site-packages (from jax->mediapipe) (0.5.1)\n",
      "Requirement already satisfied: opt_einsum in c:\\users\\felip\\anaconda3\\envs\\aim\\lib\\site-packages (from jax->mediapipe) (3.4.0)\n",
      "Requirement already satisfied: MarkupSafe>=2.0 in c:\\users\\felip\\anaconda3\\envs\\aim\\lib\\site-packages (from jinja2->torch) (3.0.2)\n",
      "Requirement already satisfied: contourpy>=1.0.1 in c:\\users\\felip\\anaconda3\\envs\\aim\\lib\\site-packages (from matplotlib->mediapipe) (1.3.1)\n",
      "Requirement already satisfied: cycler>=0.10 in c:\\users\\felip\\anaconda3\\envs\\aim\\lib\\site-packages (from matplotlib->mediapipe) (0.12.1)\n",
      "Requirement already satisfied: fonttools>=4.22.0 in c:\\users\\felip\\anaconda3\\envs\\aim\\lib\\site-packages (from matplotlib->mediapipe) (4.56.0)\n",
      "Requirement already satisfied: kiwisolver>=1.3.1 in c:\\users\\felip\\anaconda3\\envs\\aim\\lib\\site-packages (from matplotlib->mediapipe) (1.4.8)\n",
      "Requirement already satisfied: packaging>=20.0 in c:\\users\\felip\\anaconda3\\envs\\aim\\lib\\site-packages (from matplotlib->mediapipe) (23.2)\n",
      "Requirement already satisfied: pyparsing>=2.3.1 in c:\\users\\felip\\anaconda3\\envs\\aim\\lib\\site-packages (from matplotlib->mediapipe) (3.2.1)\n",
      "Requirement already satisfied: python-dateutil>=2.7 in c:\\users\\felip\\anaconda3\\envs\\aim\\lib\\site-packages (from matplotlib->mediapipe) (2.9.0.post0)\n",
      "Requirement already satisfied: pycparser in c:\\users\\felip\\anaconda3\\envs\\aim\\lib\\site-packages (from CFFI>=1.0->sounddevice>=0.4.4->mediapipe) (2.21)\n",
      "Requirement already satisfied: six>=1.5 in c:\\users\\felip\\anaconda3\\envs\\aim\\lib\\site-packages (from python-dateutil>=2.7->matplotlib->mediapipe) (1.17.0)\n"
     ]
    },
    {
     "name": "stderr",
     "output_type": "stream",
     "text": [
      "WARNING: Ignoring invalid distribution -umpy (c:\\users\\felip\\anaconda3\\envs\\aim\\lib\\site-packages)\n",
      "WARNING: Ignoring invalid distribution -umpy (c:\\users\\felip\\anaconda3\\envs\\aim\\lib\\site-packages)\n",
      "WARNING: Ignoring invalid distribution -umpy (c:\\users\\felip\\anaconda3\\envs\\aim\\lib\\site-packages)\n"
     ]
    }
   ],
   "source": [
    "!pip install torch numpy scikit-learn mediapipe opencv-python Pillow requests geopy"
   ]
  },
  {
   "cell_type": "code",
   "execution_count": 1,
   "metadata": {},
   "outputs": [
    {
     "name": "stdout",
     "output_type": "stream",
     "text": [
      "Requirement already satisfied: streamlit in c:\\users\\felip\\anaconda3\\envs\\aim\\lib\\site-packages (1.42.2)\n",
      "Requirement already satisfied: streamlit-webrtc in c:\\users\\felip\\anaconda3\\envs\\aim\\lib\\site-packages (0.53.3)\n",
      "Requirement already satisfied: pillow in c:\\users\\felip\\anaconda3\\envs\\aim\\lib\\site-packages (10.4.0)\n",
      "Requirement already satisfied: av in c:\\users\\felip\\anaconda3\\envs\\aim\\lib\\site-packages (13.1.0)\n",
      "Requirement already satisfied: altair<6,>=4.0 in c:\\users\\felip\\anaconda3\\envs\\aim\\lib\\site-packages (from streamlit) (5.5.0)\n",
      "Requirement already satisfied: blinker<2,>=1.0.0 in c:\\users\\felip\\anaconda3\\envs\\aim\\lib\\site-packages (from streamlit) (1.9.0)\n",
      "Requirement already satisfied: cachetools<6,>=4.0 in c:\\users\\felip\\anaconda3\\envs\\aim\\lib\\site-packages (from streamlit) (5.5.2)\n",
      "Requirement already satisfied: click<9,>=7.0 in c:\\users\\felip\\anaconda3\\envs\\aim\\lib\\site-packages (from streamlit) (7.1.2)\n",
      "Requirement already satisfied: numpy<3,>=1.23 in c:\\users\\felip\\anaconda3\\envs\\aim\\lib\\site-packages (from streamlit) (1.26.2)\n",
      "Requirement already satisfied: packaging<25,>=20 in c:\\users\\felip\\anaconda3\\envs\\aim\\lib\\site-packages (from streamlit) (23.2)\n",
      "Requirement already satisfied: pandas<3,>=1.4.0 in c:\\users\\felip\\anaconda3\\envs\\aim\\lib\\site-packages (from streamlit) (2.2.2)\n",
      "Requirement already satisfied: protobuf<6,>=3.20 in c:\\users\\felip\\anaconda3\\envs\\aim\\lib\\site-packages (from streamlit) (4.25.6)\n",
      "Requirement already satisfied: pyarrow>=7.0 in c:\\users\\felip\\anaconda3\\envs\\aim\\lib\\site-packages (from streamlit) (19.0.1)\n",
      "Requirement already satisfied: requests<3,>=2.27 in c:\\users\\felip\\anaconda3\\envs\\aim\\lib\\site-packages (from streamlit) (2.31.0)\n",
      "Requirement already satisfied: rich<14,>=10.14.0 in c:\\users\\felip\\anaconda3\\envs\\aim\\lib\\site-packages (from streamlit) (13.9.4)\n",
      "Requirement already satisfied: tenacity<10,>=8.1.0 in c:\\users\\felip\\anaconda3\\envs\\aim\\lib\\site-packages (from streamlit) (9.0.0)\n",
      "Requirement already satisfied: toml<2,>=0.10.1 in c:\\users\\felip\\anaconda3\\envs\\aim\\lib\\site-packages (from streamlit) (0.10.2)\n",
      "Requirement already satisfied: typing-extensions<5,>=4.4.0 in c:\\users\\felip\\anaconda3\\envs\\aim\\lib\\site-packages (from streamlit) (4.12.2)\n",
      "Requirement already satisfied: watchdog<7,>=2.1.5 in c:\\users\\felip\\anaconda3\\envs\\aim\\lib\\site-packages (from streamlit) (6.0.0)\n",
      "Requirement already satisfied: gitpython!=3.1.19,<4,>=3.0.7 in c:\\users\\felip\\anaconda3\\envs\\aim\\lib\\site-packages (from streamlit) (3.1.44)\n",
      "Requirement already satisfied: pydeck<1,>=0.8.0b4 in c:\\users\\felip\\anaconda3\\envs\\aim\\lib\\site-packages (from streamlit) (0.9.1)\n",
      "Requirement already satisfied: tornado<7,>=6.0.3 in c:\\users\\felip\\anaconda3\\envs\\aim\\lib\\site-packages (from streamlit) (6.4.2)\n",
      "Requirement already satisfied: aiortc>=1.9.0 in c:\\users\\felip\\anaconda3\\envs\\aim\\lib\\site-packages (from streamlit-webrtc) (1.10.1)\n",
      "Requirement already satisfied: aioice<1.0.0,>=0.9.0 in c:\\users\\felip\\anaconda3\\envs\\aim\\lib\\site-packages (from aiortc>=1.9.0->streamlit-webrtc) (0.9.0)\n",
      "Requirement already satisfied: cffi>=1.0.0 in c:\\users\\felip\\anaconda3\\envs\\aim\\lib\\site-packages (from aiortc>=1.9.0->streamlit-webrtc) (1.16.0)\n",
      "Requirement already satisfied: cryptography>=42.0.0 in c:\\users\\felip\\anaconda3\\envs\\aim\\lib\\site-packages (from aiortc>=1.9.0->streamlit-webrtc) (44.0.2)\n",
      "Requirement already satisfied: google-crc32c>=1.1 in c:\\users\\felip\\anaconda3\\envs\\aim\\lib\\site-packages (from aiortc>=1.9.0->streamlit-webrtc) (1.7.0)\n",
      "Requirement already satisfied: pyee>=9.0.0 in c:\\users\\felip\\anaconda3\\envs\\aim\\lib\\site-packages (from aiortc>=1.9.0->streamlit-webrtc) (13.0.0)\n",
      "Requirement already satisfied: pylibsrtp>=0.10.0 in c:\\users\\felip\\anaconda3\\envs\\aim\\lib\\site-packages (from aiortc>=1.9.0->streamlit-webrtc) (0.11.0)\n",
      "Requirement already satisfied: pyopenssl>=24.0.0 in c:\\users\\felip\\anaconda3\\envs\\aim\\lib\\site-packages (from aiortc>=1.9.0->streamlit-webrtc) (25.0.0)\n",
      "Requirement already satisfied: jinja2 in c:\\users\\felip\\anaconda3\\envs\\aim\\lib\\site-packages (from altair<6,>=4.0->streamlit) (3.1.5)\n",
      "Requirement already satisfied: jsonschema>=3.0 in c:\\users\\felip\\anaconda3\\envs\\aim\\lib\\site-packages (from altair<6,>=4.0->streamlit) (4.23.0)\n",
      "Requirement already satisfied: narwhals>=1.14.2 in c:\\users\\felip\\anaconda3\\envs\\aim\\lib\\site-packages (from altair<6,>=4.0->streamlit) (1.28.0)\n",
      "Requirement already satisfied: gitdb<5,>=4.0.1 in c:\\users\\felip\\anaconda3\\envs\\aim\\lib\\site-packages (from gitpython!=3.1.19,<4,>=3.0.7->streamlit) (4.0.12)\n",
      "Requirement already satisfied: python-dateutil>=2.8.2 in c:\\users\\felip\\anaconda3\\envs\\aim\\lib\\site-packages (from pandas<3,>=1.4.0->streamlit) (2.9.0.post0)\n",
      "Requirement already satisfied: pytz>=2020.1 in c:\\users\\felip\\anaconda3\\envs\\aim\\lib\\site-packages (from pandas<3,>=1.4.0->streamlit) (2025.1)\n",
      "Requirement already satisfied: tzdata>=2022.7 in c:\\users\\felip\\anaconda3\\envs\\aim\\lib\\site-packages (from pandas<3,>=1.4.0->streamlit) (2025.1)\n",
      "Requirement already satisfied: charset-normalizer<4,>=2 in c:\\users\\felip\\anaconda3\\envs\\aim\\lib\\site-packages (from requests<3,>=2.27->streamlit) (3.3.2)\n",
      "Requirement already satisfied: idna<4,>=2.5 in c:\\users\\felip\\anaconda3\\envs\\aim\\lib\\site-packages (from requests<3,>=2.27->streamlit) (3.6)\n",
      "Requirement already satisfied: urllib3<3,>=1.21.1 in c:\\users\\felip\\anaconda3\\envs\\aim\\lib\\site-packages (from requests<3,>=2.27->streamlit) (2.1.0)\n",
      "Requirement already satisfied: certifi>=2017.4.17 in c:\\users\\felip\\anaconda3\\envs\\aim\\lib\\site-packages (from requests<3,>=2.27->streamlit) (2023.11.17)\n",
      "Requirement already satisfied: markdown-it-py>=2.2.0 in c:\\users\\felip\\anaconda3\\envs\\aim\\lib\\site-packages (from rich<14,>=10.14.0->streamlit) (3.0.0)\n",
      "Requirement already satisfied: pygments<3.0.0,>=2.13.0 in c:\\users\\felip\\anaconda3\\envs\\aim\\lib\\site-packages (from rich<14,>=10.14.0->streamlit) (2.19.1)\n",
      "Requirement already satisfied: dnspython>=2.0.0 in c:\\users\\felip\\anaconda3\\envs\\aim\\lib\\site-packages (from aioice<1.0.0,>=0.9.0->aiortc>=1.9.0->streamlit-webrtc) (2.7.0)\n",
      "Requirement already satisfied: ifaddr>=0.2.0 in c:\\users\\felip\\anaconda3\\envs\\aim\\lib\\site-packages (from aioice<1.0.0,>=0.9.0->aiortc>=1.9.0->streamlit-webrtc) (0.2.0)\n",
      "Requirement already satisfied: pycparser in c:\\users\\felip\\anaconda3\\envs\\aim\\lib\\site-packages (from cffi>=1.0.0->aiortc>=1.9.0->streamlit-webrtc) (2.21)\n",
      "Requirement already satisfied: smmap<6,>=3.0.1 in c:\\users\\felip\\anaconda3\\envs\\aim\\lib\\site-packages (from gitdb<5,>=4.0.1->gitpython!=3.1.19,<4,>=3.0.7->streamlit) (5.0.2)\n",
      "Requirement already satisfied: MarkupSafe>=2.0 in c:\\users\\felip\\anaconda3\\envs\\aim\\lib\\site-packages (from jinja2->altair<6,>=4.0->streamlit) (3.0.2)\n",
      "Requirement already satisfied: attrs>=22.2.0 in c:\\users\\felip\\anaconda3\\envs\\aim\\lib\\site-packages (from jsonschema>=3.0->altair<6,>=4.0->streamlit) (24.3.0)\n",
      "Requirement already satisfied: jsonschema-specifications>=2023.03.6 in c:\\users\\felip\\anaconda3\\envs\\aim\\lib\\site-packages (from jsonschema>=3.0->altair<6,>=4.0->streamlit) (2024.10.1)\n",
      "Requirement already satisfied: referencing>=0.28.4 in c:\\users\\felip\\anaconda3\\envs\\aim\\lib\\site-packages (from jsonschema>=3.0->altair<6,>=4.0->streamlit) (0.35.1)\n",
      "Requirement already satisfied: rpds-py>=0.7.1 in c:\\users\\felip\\anaconda3\\envs\\aim\\lib\\site-packages (from jsonschema>=3.0->altair<6,>=4.0->streamlit) (0.22.3)\n",
      "Requirement already satisfied: mdurl~=0.1 in c:\\users\\felip\\anaconda3\\envs\\aim\\lib\\site-packages (from markdown-it-py>=2.2.0->rich<14,>=10.14.0->streamlit) (0.1.2)\n",
      "Requirement already satisfied: six>=1.5 in c:\\users\\felip\\anaconda3\\envs\\aim\\lib\\site-packages (from python-dateutil>=2.8.2->pandas<3,>=1.4.0->streamlit) (1.17.0)\n"
     ]
    },
    {
     "name": "stderr",
     "output_type": "stream",
     "text": [
      "WARNING: Ignoring invalid distribution -umpy (c:\\users\\felip\\anaconda3\\envs\\aim\\lib\\site-packages)\n",
      "WARNING: Ignoring invalid distribution -umpy (c:\\users\\felip\\anaconda3\\envs\\aim\\lib\\site-packages)\n",
      "WARNING: Ignoring invalid distribution -umpy (c:\\users\\felip\\anaconda3\\envs\\aim\\lib\\site-packages)\n"
     ]
    }
   ],
   "source": [
    "!pip install streamlit streamlit-webrtc pillow av"
   ]
  },
  {
   "cell_type": "code",
   "execution_count": 2,
   "metadata": {},
   "outputs": [
    {
     "name": "stdout",
     "output_type": "stream",
     "text": [
      "Collecting streamlit-autorefresh\n",
      "  Downloading streamlit_autorefresh-1.0.1-py3-none-any.whl.metadata (436 bytes)\n",
      "Requirement already satisfied: streamlit>=0.75 in c:\\users\\felip\\anaconda3\\envs\\aim\\lib\\site-packages (from streamlit-autorefresh) (1.42.2)\n",
      "Requirement already satisfied: altair<6,>=4.0 in c:\\users\\felip\\anaconda3\\envs\\aim\\lib\\site-packages (from streamlit>=0.75->streamlit-autorefresh) (5.5.0)\n",
      "Requirement already satisfied: blinker<2,>=1.0.0 in c:\\users\\felip\\anaconda3\\envs\\aim\\lib\\site-packages (from streamlit>=0.75->streamlit-autorefresh) (1.9.0)\n",
      "Requirement already satisfied: cachetools<6,>=4.0 in c:\\users\\felip\\anaconda3\\envs\\aim\\lib\\site-packages (from streamlit>=0.75->streamlit-autorefresh) (5.5.2)\n",
      "Requirement already satisfied: click<9,>=7.0 in c:\\users\\felip\\anaconda3\\envs\\aim\\lib\\site-packages (from streamlit>=0.75->streamlit-autorefresh) (7.1.2)\n",
      "Requirement already satisfied: numpy<3,>=1.23 in c:\\users\\felip\\anaconda3\\envs\\aim\\lib\\site-packages (from streamlit>=0.75->streamlit-autorefresh) (1.26.2)\n",
      "Requirement already satisfied: packaging<25,>=20 in c:\\users\\felip\\anaconda3\\envs\\aim\\lib\\site-packages (from streamlit>=0.75->streamlit-autorefresh) (23.2)\n",
      "Requirement already satisfied: pandas<3,>=1.4.0 in c:\\users\\felip\\anaconda3\\envs\\aim\\lib\\site-packages (from streamlit>=0.75->streamlit-autorefresh) (2.2.2)\n",
      "Requirement already satisfied: pillow<12,>=7.1.0 in c:\\users\\felip\\anaconda3\\envs\\aim\\lib\\site-packages (from streamlit>=0.75->streamlit-autorefresh) (10.4.0)\n",
      "Requirement already satisfied: protobuf<6,>=3.20 in c:\\users\\felip\\anaconda3\\envs\\aim\\lib\\site-packages (from streamlit>=0.75->streamlit-autorefresh) (4.25.6)\n",
      "Requirement already satisfied: pyarrow>=7.0 in c:\\users\\felip\\anaconda3\\envs\\aim\\lib\\site-packages (from streamlit>=0.75->streamlit-autorefresh) (19.0.1)\n",
      "Requirement already satisfied: requests<3,>=2.27 in c:\\users\\felip\\anaconda3\\envs\\aim\\lib\\site-packages (from streamlit>=0.75->streamlit-autorefresh) (2.31.0)\n",
      "Requirement already satisfied: rich<14,>=10.14.0 in c:\\users\\felip\\anaconda3\\envs\\aim\\lib\\site-packages (from streamlit>=0.75->streamlit-autorefresh) (13.9.4)\n",
      "Requirement already satisfied: tenacity<10,>=8.1.0 in c:\\users\\felip\\anaconda3\\envs\\aim\\lib\\site-packages (from streamlit>=0.75->streamlit-autorefresh) (9.0.0)\n",
      "Requirement already satisfied: toml<2,>=0.10.1 in c:\\users\\felip\\anaconda3\\envs\\aim\\lib\\site-packages (from streamlit>=0.75->streamlit-autorefresh) (0.10.2)\n",
      "Requirement already satisfied: typing-extensions<5,>=4.4.0 in c:\\users\\felip\\anaconda3\\envs\\aim\\lib\\site-packages (from streamlit>=0.75->streamlit-autorefresh) (4.12.2)\n",
      "Requirement already satisfied: watchdog<7,>=2.1.5 in c:\\users\\felip\\anaconda3\\envs\\aim\\lib\\site-packages (from streamlit>=0.75->streamlit-autorefresh) (6.0.0)\n",
      "Requirement already satisfied: gitpython!=3.1.19,<4,>=3.0.7 in c:\\users\\felip\\anaconda3\\envs\\aim\\lib\\site-packages (from streamlit>=0.75->streamlit-autorefresh) (3.1.44)\n",
      "Requirement already satisfied: pydeck<1,>=0.8.0b4 in c:\\users\\felip\\anaconda3\\envs\\aim\\lib\\site-packages (from streamlit>=0.75->streamlit-autorefresh) (0.9.1)\n",
      "Requirement already satisfied: tornado<7,>=6.0.3 in c:\\users\\felip\\anaconda3\\envs\\aim\\lib\\site-packages (from streamlit>=0.75->streamlit-autorefresh) (6.4.2)\n",
      "Requirement already satisfied: jinja2 in c:\\users\\felip\\anaconda3\\envs\\aim\\lib\\site-packages (from altair<6,>=4.0->streamlit>=0.75->streamlit-autorefresh) (3.1.5)\n",
      "Requirement already satisfied: jsonschema>=3.0 in c:\\users\\felip\\anaconda3\\envs\\aim\\lib\\site-packages (from altair<6,>=4.0->streamlit>=0.75->streamlit-autorefresh) (4.23.0)\n",
      "Requirement already satisfied: narwhals>=1.14.2 in c:\\users\\felip\\anaconda3\\envs\\aim\\lib\\site-packages (from altair<6,>=4.0->streamlit>=0.75->streamlit-autorefresh) (1.28.0)\n",
      "Requirement already satisfied: gitdb<5,>=4.0.1 in c:\\users\\felip\\anaconda3\\envs\\aim\\lib\\site-packages (from gitpython!=3.1.19,<4,>=3.0.7->streamlit>=0.75->streamlit-autorefresh) (4.0.12)\n",
      "Requirement already satisfied: python-dateutil>=2.8.2 in c:\\users\\felip\\anaconda3\\envs\\aim\\lib\\site-packages (from pandas<3,>=1.4.0->streamlit>=0.75->streamlit-autorefresh) (2.9.0.post0)\n",
      "Requirement already satisfied: pytz>=2020.1 in c:\\users\\felip\\anaconda3\\envs\\aim\\lib\\site-packages (from pandas<3,>=1.4.0->streamlit>=0.75->streamlit-autorefresh) (2025.1)\n",
      "Requirement already satisfied: tzdata>=2022.7 in c:\\users\\felip\\anaconda3\\envs\\aim\\lib\\site-packages (from pandas<3,>=1.4.0->streamlit>=0.75->streamlit-autorefresh) (2025.1)\n",
      "Requirement already satisfied: charset-normalizer<4,>=2 in c:\\users\\felip\\anaconda3\\envs\\aim\\lib\\site-packages (from requests<3,>=2.27->streamlit>=0.75->streamlit-autorefresh) (3.3.2)\n",
      "Requirement already satisfied: idna<4,>=2.5 in c:\\users\\felip\\anaconda3\\envs\\aim\\lib\\site-packages (from requests<3,>=2.27->streamlit>=0.75->streamlit-autorefresh) (3.6)\n",
      "Requirement already satisfied: urllib3<3,>=1.21.1 in c:\\users\\felip\\anaconda3\\envs\\aim\\lib\\site-packages (from requests<3,>=2.27->streamlit>=0.75->streamlit-autorefresh) (2.1.0)\n",
      "Requirement already satisfied: certifi>=2017.4.17 in c:\\users\\felip\\anaconda3\\envs\\aim\\lib\\site-packages (from requests<3,>=2.27->streamlit>=0.75->streamlit-autorefresh) (2023.11.17)\n",
      "Requirement already satisfied: markdown-it-py>=2.2.0 in c:\\users\\felip\\anaconda3\\envs\\aim\\lib\\site-packages (from rich<14,>=10.14.0->streamlit>=0.75->streamlit-autorefresh) (3.0.0)\n",
      "Requirement already satisfied: pygments<3.0.0,>=2.13.0 in c:\\users\\felip\\anaconda3\\envs\\aim\\lib\\site-packages (from rich<14,>=10.14.0->streamlit>=0.75->streamlit-autorefresh) (2.19.1)\n",
      "Requirement already satisfied: smmap<6,>=3.0.1 in c:\\users\\felip\\anaconda3\\envs\\aim\\lib\\site-packages (from gitdb<5,>=4.0.1->gitpython!=3.1.19,<4,>=3.0.7->streamlit>=0.75->streamlit-autorefresh) (5.0.2)\n",
      "Requirement already satisfied: MarkupSafe>=2.0 in c:\\users\\felip\\anaconda3\\envs\\aim\\lib\\site-packages (from jinja2->altair<6,>=4.0->streamlit>=0.75->streamlit-autorefresh) (3.0.2)\n",
      "Requirement already satisfied: attrs>=22.2.0 in c:\\users\\felip\\anaconda3\\envs\\aim\\lib\\site-packages (from jsonschema>=3.0->altair<6,>=4.0->streamlit>=0.75->streamlit-autorefresh) (24.3.0)\n",
      "Requirement already satisfied: jsonschema-specifications>=2023.03.6 in c:\\users\\felip\\anaconda3\\envs\\aim\\lib\\site-packages (from jsonschema>=3.0->altair<6,>=4.0->streamlit>=0.75->streamlit-autorefresh) (2024.10.1)\n",
      "Requirement already satisfied: referencing>=0.28.4 in c:\\users\\felip\\anaconda3\\envs\\aim\\lib\\site-packages (from jsonschema>=3.0->altair<6,>=4.0->streamlit>=0.75->streamlit-autorefresh) (0.35.1)\n",
      "Requirement already satisfied: rpds-py>=0.7.1 in c:\\users\\felip\\anaconda3\\envs\\aim\\lib\\site-packages (from jsonschema>=3.0->altair<6,>=4.0->streamlit>=0.75->streamlit-autorefresh) (0.22.3)\n",
      "Requirement already satisfied: mdurl~=0.1 in c:\\users\\felip\\anaconda3\\envs\\aim\\lib\\site-packages (from markdown-it-py>=2.2.0->rich<14,>=10.14.0->streamlit>=0.75->streamlit-autorefresh) (0.1.2)\n",
      "Requirement already satisfied: six>=1.5 in c:\\users\\felip\\anaconda3\\envs\\aim\\lib\\site-packages (from python-dateutil>=2.8.2->pandas<3,>=1.4.0->streamlit>=0.75->streamlit-autorefresh) (1.17.0)\n",
      "Downloading streamlit_autorefresh-1.0.1-py3-none-any.whl (700 kB)\n",
      "   ---------------------------------------- 0.0/700.8 kB ? eta -:--:--\n",
      "   ---------------------------------------- 700.8/700.8 kB 9.3 MB/s eta 0:00:00\n",
      "Installing collected packages: streamlit-autorefresh\n",
      "Successfully installed streamlit-autorefresh-1.0.1\n"
     ]
    },
    {
     "name": "stderr",
     "output_type": "stream",
     "text": [
      "WARNING: Ignoring invalid distribution -umpy (c:\\users\\felip\\anaconda3\\envs\\aim\\lib\\site-packages)\n",
      "WARNING: Ignoring invalid distribution -umpy (c:\\users\\felip\\anaconda3\\envs\\aim\\lib\\site-packages)\n",
      "WARNING: Ignoring invalid distribution -umpy (c:\\users\\felip\\anaconda3\\envs\\aim\\lib\\site-packages)\n"
     ]
    }
   ],
   "source": [
    "!pip install streamlit-autorefresh"
   ]
  },
  {
   "cell_type": "code",
   "execution_count": 3,
   "metadata": {},
   "outputs": [
    {
     "name": "stdout",
     "output_type": "stream",
     "text": [
      "Requirement already satisfied: python-dotenv in c:\\users\\felip\\anaconda3\\envs\\aim\\lib\\site-packages (1.0.1)\n"
     ]
    },
    {
     "name": "stderr",
     "output_type": "stream",
     "text": [
      "WARNING: Ignoring invalid distribution -umpy (c:\\users\\felip\\anaconda3\\envs\\aim\\lib\\site-packages)\n",
      "WARNING: Ignoring invalid distribution -umpy (c:\\users\\felip\\anaconda3\\envs\\aim\\lib\\site-packages)\n",
      "WARNING: Ignoring invalid distribution -umpy (c:\\users\\felip\\anaconda3\\envs\\aim\\lib\\site-packages)\n"
     ]
    }
   ],
   "source": [
    "!pip install python-dotenv"
   ]
  }
 ],
 "metadata": {
  "kernelspec": {
   "display_name": "aim",
   "language": "python",
   "name": "python3"
  },
  "language_info": {
   "codemirror_mode": {
    "name": "ipython",
    "version": 3
   },
   "file_extension": ".py",
   "mimetype": "text/x-python",
   "name": "python",
   "nbconvert_exporter": "python",
   "pygments_lexer": "ipython3",
   "version": "3.10.16"
  }
 },
 "nbformat": 4,
 "nbformat_minor": 2
}
