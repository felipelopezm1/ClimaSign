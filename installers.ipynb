{
 "cells": [
  {
   "cell_type": "code",
   "execution_count": 1,
   "metadata": {},
   "outputs": [
    {
     "name": "stdout",
     "output_type": "stream",
     "text": [
      "Requirement already satisfied: torch in c:\\users\\felip\\anaconda3\\envs\\aim\\lib\\site-packages (2.6.0)\n",
      "Requirement already satisfied: numpy in c:\\users\\felip\\anaconda3\\envs\\aim\\lib\\site-packages (1.26.2)\n",
      "Requirement already satisfied: scikit-learn in c:\\users\\felip\\anaconda3\\envs\\aim\\lib\\site-packages (1.3.2)\n",
      "Requirement already satisfied: mediapipe in c:\\users\\felip\\anaconda3\\envs\\aim\\lib\\site-packages (0.10.21)\n",
      "Requirement already satisfied: opencv-python in c:\\users\\felip\\anaconda3\\envs\\aim\\lib\\site-packages (4.11.0.86)\n",
      "Requirement already satisfied: Pillow in c:\\users\\felip\\anaconda3\\envs\\aim\\lib\\site-packages (10.4.0)\n",
      "Requirement already satisfied: requests in c:\\users\\felip\\anaconda3\\envs\\aim\\lib\\site-packages (2.31.0)\n",
      "Requirement already satisfied: geopy in c:\\users\\felip\\anaconda3\\envs\\aim\\lib\\site-packages (2.4.1)\n",
      "Requirement already satisfied: filelock in c:\\users\\felip\\anaconda3\\envs\\aim\\lib\\site-packages (from torch) (3.17.0)\n",
      "Requirement already satisfied: typing-extensions>=4.10.0 in c:\\users\\felip\\anaconda3\\envs\\aim\\lib\\site-packages (from torch) (4.12.2)\n",
      "Requirement already satisfied: networkx in c:\\users\\felip\\anaconda3\\envs\\aim\\lib\\site-packages (from torch) (3.4.2)\n",
      "Requirement already satisfied: jinja2 in c:\\users\\felip\\anaconda3\\envs\\aim\\lib\\site-packages (from torch) (3.1.5)\n",
      "Requirement already satisfied: fsspec in c:\\users\\felip\\anaconda3\\envs\\aim\\lib\\site-packages (from torch) (2025.2.0)\n",
      "Requirement already satisfied: sympy==1.13.1 in c:\\users\\felip\\anaconda3\\envs\\aim\\lib\\site-packages (from torch) (1.13.1)\n",
      "Requirement already satisfied: mpmath<1.4,>=1.1.0 in c:\\users\\felip\\anaconda3\\envs\\aim\\lib\\site-packages (from sympy==1.13.1->torch) (1.3.0)\n",
      "Requirement already satisfied: scipy>=1.5.0 in c:\\users\\felip\\anaconda3\\envs\\aim\\lib\\site-packages (from scikit-learn) (1.11.4)\n",
      "Requirement already satisfied: joblib>=1.1.1 in c:\\users\\felip\\anaconda3\\envs\\aim\\lib\\site-packages (from scikit-learn) (1.3.2)\n",
      "Requirement already satisfied: threadpoolctl>=2.0.0 in c:\\users\\felip\\anaconda3\\envs\\aim\\lib\\site-packages (from scikit-learn) (3.2.0)\n",
      "Requirement already satisfied: absl-py in c:\\users\\felip\\anaconda3\\envs\\aim\\lib\\site-packages (from mediapipe) (2.1.0)\n",
      "Requirement already satisfied: attrs>=19.1.0 in c:\\users\\felip\\anaconda3\\envs\\aim\\lib\\site-packages (from mediapipe) (24.3.0)\n",
      "Requirement already satisfied: flatbuffers>=2.0 in c:\\users\\felip\\anaconda3\\envs\\aim\\lib\\site-packages (from mediapipe) (25.2.10)\n",
      "Requirement already satisfied: jax in c:\\users\\felip\\anaconda3\\envs\\aim\\lib\\site-packages (from mediapipe) (0.5.2)\n",
      "Requirement already satisfied: jaxlib in c:\\users\\felip\\anaconda3\\envs\\aim\\lib\\site-packages (from mediapipe) (0.5.1)\n",
      "Requirement already satisfied: matplotlib in c:\\users\\felip\\anaconda3\\envs\\aim\\lib\\site-packages (from mediapipe) (3.10.0)\n",
      "Requirement already satisfied: opencv-contrib-python in c:\\users\\felip\\anaconda3\\envs\\aim\\lib\\site-packages (from mediapipe) (4.11.0.86)\n",
      "Requirement already satisfied: protobuf<5,>=4.25.3 in c:\\users\\felip\\anaconda3\\envs\\aim\\lib\\site-packages (from mediapipe) (4.25.6)\n",
      "Requirement already satisfied: sounddevice>=0.4.4 in c:\\users\\felip\\anaconda3\\envs\\aim\\lib\\site-packages (from mediapipe) (0.4.6)\n",
      "Requirement already satisfied: sentencepiece in c:\\users\\felip\\anaconda3\\envs\\aim\\lib\\site-packages (from mediapipe) (0.2.0)\n",
      "Requirement already satisfied: charset-normalizer<4,>=2 in c:\\users\\felip\\anaconda3\\envs\\aim\\lib\\site-packages (from requests) (3.3.2)\n",
      "Requirement already satisfied: idna<4,>=2.5 in c:\\users\\felip\\anaconda3\\envs\\aim\\lib\\site-packages (from requests) (3.6)\n",
      "Requirement already satisfied: urllib3<3,>=1.21.1 in c:\\users\\felip\\anaconda3\\envs\\aim\\lib\\site-packages (from requests) (2.1.0)\n",
      "Requirement already satisfied: certifi>=2017.4.17 in c:\\users\\felip\\anaconda3\\envs\\aim\\lib\\site-packages (from requests) (2023.11.17)\n",
      "Requirement already satisfied: geographiclib<3,>=1.52 in c:\\users\\felip\\anaconda3\\envs\\aim\\lib\\site-packages (from geopy) (2.0)\n",
      "Requirement already satisfied: CFFI>=1.0 in c:\\users\\felip\\anaconda3\\envs\\aim\\lib\\site-packages (from sounddevice>=0.4.4->mediapipe) (1.16.0)\n",
      "Requirement already satisfied: ml_dtypes>=0.4.0 in c:\\users\\felip\\anaconda3\\envs\\aim\\lib\\site-packages (from jax->mediapipe) (0.5.1)\n",
      "Requirement already satisfied: opt_einsum in c:\\users\\felip\\anaconda3\\envs\\aim\\lib\\site-packages (from jax->mediapipe) (3.4.0)\n",
      "Requirement already satisfied: MarkupSafe>=2.0 in c:\\users\\felip\\anaconda3\\envs\\aim\\lib\\site-packages (from jinja2->torch) (3.0.2)\n",
      "Requirement already satisfied: contourpy>=1.0.1 in c:\\users\\felip\\anaconda3\\envs\\aim\\lib\\site-packages (from matplotlib->mediapipe) (1.3.1)\n",
      "Requirement already satisfied: cycler>=0.10 in c:\\users\\felip\\anaconda3\\envs\\aim\\lib\\site-packages (from matplotlib->mediapipe) (0.12.1)\n",
      "Requirement already satisfied: fonttools>=4.22.0 in c:\\users\\felip\\anaconda3\\envs\\aim\\lib\\site-packages (from matplotlib->mediapipe) (4.56.0)\n",
      "Requirement already satisfied: kiwisolver>=1.3.1 in c:\\users\\felip\\anaconda3\\envs\\aim\\lib\\site-packages (from matplotlib->mediapipe) (1.4.8)\n",
      "Requirement already satisfied: packaging>=20.0 in c:\\users\\felip\\anaconda3\\envs\\aim\\lib\\site-packages (from matplotlib->mediapipe) (23.2)\n",
      "Requirement already satisfied: pyparsing>=2.3.1 in c:\\users\\felip\\anaconda3\\envs\\aim\\lib\\site-packages (from matplotlib->mediapipe) (3.2.1)\n",
      "Requirement already satisfied: python-dateutil>=2.7 in c:\\users\\felip\\anaconda3\\envs\\aim\\lib\\site-packages (from matplotlib->mediapipe) (2.9.0.post0)\n",
      "Requirement already satisfied: pycparser in c:\\users\\felip\\anaconda3\\envs\\aim\\lib\\site-packages (from CFFI>=1.0->sounddevice>=0.4.4->mediapipe) (2.21)\n",
      "Requirement already satisfied: six>=1.5 in c:\\users\\felip\\anaconda3\\envs\\aim\\lib\\site-packages (from python-dateutil>=2.7->matplotlib->mediapipe) (1.17.0)\n"
     ]
    },
    {
     "name": "stderr",
     "output_type": "stream",
     "text": [
      "WARNING: Ignoring invalid distribution -umpy (c:\\users\\felip\\anaconda3\\envs\\aim\\lib\\site-packages)\n",
      "WARNING: Ignoring invalid distribution -umpy (c:\\users\\felip\\anaconda3\\envs\\aim\\lib\\site-packages)\n",
      "WARNING: Ignoring invalid distribution -umpy (c:\\users\\felip\\anaconda3\\envs\\aim\\lib\\site-packages)\n"
     ]
    }
   ],
   "source": [
    "!pip install torch numpy scikit-learn mediapipe opencv-python Pillow requests geopy"
   ]
  }
 ],
 "metadata": {
  "kernelspec": {
   "display_name": "aim",
   "language": "python",
   "name": "python3"
  },
  "language_info": {
   "codemirror_mode": {
    "name": "ipython",
    "version": 3
   },
   "file_extension": ".py",
   "mimetype": "text/x-python",
   "name": "python",
   "nbconvert_exporter": "python",
   "pygments_lexer": "ipython3",
   "version": "3.10.16"
  }
 },
 "nbformat": 4,
 "nbformat_minor": 2
}
